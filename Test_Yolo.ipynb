{
  "nbformat": 4,
  "nbformat_minor": 0,
  "metadata": {
    "colab": {
      "provenance": [],
      "include_colab_link": true
    },
    "kernelspec": {
      "name": "python3",
      "display_name": "Python 3"
    },
    "language_info": {
      "name": "python"
    }
  },
  "cells": [
    {
      "cell_type": "markdown",
      "metadata": {
        "id": "view-in-github",
        "colab_type": "text"
      },
      "source": [
        "<a href=\"https://colab.research.google.com/github/0210shivam/Object-detection-model/blob/main/Test_Yolo.ipynb\" target=\"_parent\"><img src=\"https://colab.research.google.com/assets/colab-badge.svg\" alt=\"Open In Colab\"/></a>"
      ]
    },
    {
      "cell_type": "code",
      "execution_count": null,
      "metadata": {
        "id": "8oJHo4TySkjZ"
      },
      "outputs": [],
      "source": [
        "%%capture\n",
        "!pip install super-gradients\n",
        "!pip install imutils\n",
        "!pip install pytube --upgrade"
      ]
    },
    {
      "cell_type": "code",
      "source": [
        "from super_gradients.training import models"
      ],
      "metadata": {
        "id": "cGcKEITaT4zH"
      },
      "execution_count": null,
      "outputs": []
    },
    {
      "cell_type": "code",
      "source": [
        "dataset_params = {\n",
        "    'classes': ['Apples', 'Banana', 'Bun', 'Cabbage', 'Cold Drink', 'Dry Fruit', 'Eggs', 'Grapes', 'Green Seeds', 'Milk', 'Oil', 'Pineapple', 'Snacks', 'Vegetables', 'Water Bottle', 'Water Bottle', 'bread', 'carrot', 'cucumber', 'fasol', 'garlic', 'hot pepper', 'onion', 'peas', 'salad', 'tin', 'tomato']\n",
        "}"
      ],
      "metadata": {
        "id": "kwThy72FUFUH"
      },
      "execution_count": null,
      "outputs": []
    },
    {
      "cell_type": "code",
      "source": [
        "best_model = models.get('yolo_nas_s',\n",
        "                        num_classes=len(dataset_params['classes']),\n",
        "                        checkpoint_path=\"/content/drive/MyDrive/Training_Object_detection_model/ckpt_best.pth\")"
      ],
      "metadata": {
        "id": "0Oa6QmC2TCkR"
      },
      "execution_count": null,
      "outputs": []
    },
    {
      "cell_type": "code",
      "source": [
        "img_url = '/content/drive/MyDrive/Training_Object_detection_model/test_images/003 (1).jpg'\n",
        "best_model.predict(img_url).show()"
      ],
      "metadata": {
        "id": "WeAoQuPTTHU5"
      },
      "execution_count": null,
      "outputs": []
    }
  ]
}